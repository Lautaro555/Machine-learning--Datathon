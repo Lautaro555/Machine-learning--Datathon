{
 "cells": [
  {
   "attachments": {},
   "cell_type": "markdown",
   "metadata": {},
   "source": [
    "Se importan las librerias"
   ]
  },
  {
   "cell_type": "code",
   "execution_count": 1,
   "metadata": {},
   "outputs": [],
   "source": [
    "import pandas as pd\n",
    "import warnings\n",
    "warnings.filterwarnings(\"ignore\", category=DeprecationWarning)\n",
    "from sklearn.exceptions import DataConversionWarning\n",
    "warnings.filterwarnings(action='ignore', category=DataConversionWarning)"
   ]
  },
  {
   "attachments": {},
   "cell_type": "markdown",
   "metadata": {},
   "source": [
    "Se cargan los datasets previamente modificados y se crean los dataframe test y train."
   ]
  },
  {
   "cell_type": "code",
   "execution_count": 2,
   "metadata": {},
   "outputs": [],
   "source": [
    "df_test=pd.read_csv(\"data_cleansing\\df_test_mod.csv\",sep=\",\")\n",
    "df_train=pd.read_csv(\"data_cleansing\\df_train_mod.csv\",sep=\",\")"
   ]
  },
  {
   "attachments": {},
   "cell_type": "markdown",
   "metadata": {},
   "source": [
    "Se importan todas las librerias necesarias"
   ]
  },
  {
   "cell_type": "code",
   "execution_count": 3,
   "metadata": {},
   "outputs": [],
   "source": [
    "from sklearn.model_selection import train_test_split\n",
    "from sklearn.metrics import accuracy_score,recall_score,auc,roc_auc_score,roc_curve\n",
    "import sklearn.metrics as metrics\n",
    "\n",
    "from sklearn.linear_model import LogisticRegression #Modelo 1\n",
    "from sklearn.naive_bayes import GaussianNB #Modelo 2\n",
    "import xgboost as xgb #Modelo 3\n",
    "\n",
    "from sklearn.ensemble import VotingClassifier #Ensamblado\n"
   ]
  },
  {
   "attachments": {},
   "cell_type": "markdown",
   "metadata": {},
   "source": [
    "Se utiliza test split con los datos de entrenamiento y se toma el 20% de los valores para testeo"
   ]
  },
  {
   "cell_type": "code",
   "execution_count": 4,
   "metadata": {},
   "outputs": [],
   "source": [
    "y=df_train[\"Stay (in days)\"]\n",
    "X=df_train.drop(columns=[\"Stay (in days)\"])\n",
    "\n",
    "X_train, X_test, y_train, y_test = train_test_split(X, y, stratify=y, test_size=0.2, random_state=42)"
   ]
  },
  {
   "attachments": {},
   "cell_type": "markdown",
   "metadata": {},
   "source": [
    "Como primer modelo se utiliza Random Forest el cual utiliza una gran cantidad de arboles de decision para entrenar sus variables, por lo que se podria decir que es una version mejorada del modelo de arbol de decision."
   ]
  },
  {
   "cell_type": "code",
   "execution_count": 5,
   "metadata": {},
   "outputs": [
    {
     "name": "stdout",
     "output_type": "stream",
     "text": [
      "Accuracy para y_train: 0.6304268292682926\n",
      "Recall para y_train: 0.7791790851208567\n",
      "f1 para y_train: 0.7242769149584665\n",
      "Accuracy para y_test: 0.6313292682926829\n",
      "Recall para y_test: 0.7779887633850792\n",
      "f1 para y_test: 0.7244588251378572\n",
      "Area bajo curva ROC para random forest: 0.684\n"
     ]
    }
   ],
   "source": [
    "regress = LogisticRegression(random_state=42,n_jobs=-1)\n",
    "regress.fit(X_train, y_train)\n",
    "\n",
    "y_train_pred = regress.predict(X_train)\n",
    "y_test_pred = regress.predict(X_test)\n",
    "\n",
    "#Se imprimen el accuracy,recall,F1 y por ultimo el area bajo la curva ROC para podes evaluar los modelos con una variedad de \n",
    "#metricas distintas.\n",
    "print(\"Accuracy para y_train:\",metrics.accuracy_score(y_train, y_train_pred))\n",
    "print(\"Recall para y_train:\",metrics.recall_score(y_train, y_train_pred))\n",
    "print(\"f1 para y_train:\",metrics.f1_score(y_train, y_train_pred))\n",
    "\n",
    "print(\"Accuracy para y_test:\",metrics.accuracy_score(y_test, y_test_pred))\n",
    "print(\"Recall para y_test:\",metrics.recall_score(y_test, y_test_pred))\n",
    "print(\"f1 para y_test:\",metrics.f1_score(y_test, y_test_pred))\n",
    "\n",
    "from sklearn.metrics import roc_auc_score\n",
    "y_scores = regress.predict_proba(X_test)\n",
    "# Calculate area under the curve\n",
    "auc = roc_auc_score(y_test, y_scores[:,1])\n",
    "\n",
    "print(\"Area bajo curva ROC para regress: {:.3f}\".format(auc))"
   ]
  },
  {
   "attachments": {},
   "cell_type": "markdown",
   "metadata": {},
   "source": [
    "Como segundo modelo se eligio GaussianNB debido a que utiliza un sistema de clasificacion basado en probabilidades y puede ofrecer un resultado mas variado para posteriormente comparar con los otros modelos."
   ]
  },
  {
   "cell_type": "code",
   "execution_count": 6,
   "metadata": {},
   "outputs": [
    {
     "name": "stdout",
     "output_type": "stream",
     "text": [
      "Accuracy para y_train: 0.6055243902439025\n",
      "Recall para y_train: 0.832122075239927\n",
      "f1 para y_train: 0.7243826792317786\n",
      "Accuracy para y_test: 0.6074878048780488\n",
      "Recall para y_test: 0.8324099994127204\n",
      "f1 para y_test: 0.7254457050243112\n",
      "Area bajo curva ROC para Gauss: 0.637\n"
     ]
    }
   ],
   "source": [
    "gauss = GaussianNB(var_smoothing=4)\n",
    "gauss.fit(X_train, y_train)\n",
    "\n",
    "y_train_pred = gauss.predict(X_train)\n",
    "y_test_pred = gauss.predict(X_test)\n",
    "\n",
    "#Se imprimen el accuracy,recall,F1 y por ultimo el area bajo la curva ROC para podes evaluar los modelos con una variedad de \n",
    "#metricas distintas.\n",
    "print(\"Accuracy para y_train:\",metrics.accuracy_score(y_train, y_train_pred))\n",
    "print(\"Recall para y_train:\",metrics.recall_score(y_train, y_train_pred))\n",
    "print(\"f1 para y_train:\",metrics.f1_score(y_train, y_train_pred))\n",
    "\n",
    "print(\"Accuracy para y_test:\",metrics.accuracy_score(y_test, y_test_pred))\n",
    "print(\"Recall para y_test:\",metrics.recall_score(y_test, y_test_pred))\n",
    "print(\"f1 para y_test:\",metrics.f1_score(y_test, y_test_pred))\n",
    "\n",
    "from sklearn.metrics import roc_auc_score\n",
    "y_scores = gauss.predict_proba(X_test)\n",
    "# Calculate area under the curve\n",
    "auc = roc_auc_score(y_test, y_scores[:,1])\n",
    "\n",
    "print(\"Area bajo curva ROC para Gauss: {:.3f}\".format(auc))\n"
   ]
  },
  {
   "attachments": {},
   "cell_type": "markdown",
   "metadata": {},
   "source": [
    "XGBoosting es el tercer modelo usado, es similar a Random Forest ya que utiliza muchos arboles de decision pero utiliza mejoras para aumentar la precision y velocidad de entrenamiento."
   ]
  },
  {
   "cell_type": "code",
   "execution_count": 7,
   "metadata": {},
   "outputs": [
    {
     "name": "stderr",
     "output_type": "stream",
     "text": [
      "c:\\Users\\Lautaro\\AppData\\Local\\Programs\\Python\\Python310\\lib\\site-packages\\xgboost\\sklearn.py:1421: UserWarning: `use_label_encoder` is deprecated in 1.7.0.\n",
      "  warnings.warn(\"`use_label_encoder` is deprecated in 1.7.0.\")\n"
     ]
    },
    {
     "name": "stdout",
     "output_type": "stream",
     "text": [
      "Accuracy para y_train : 0.6584420731707317\n",
      "Recall para y_train : 0.9936769880538141\n",
      "f1 para y_train : 0.7837711078471299\n",
      "Accuracy para y_test : 0.6593414634146342\n",
      "Recall para y_test : 0.99346162128301\n",
      "f1 para y_test : 0.7841801100191607\n",
      "Area bajo curva ROC para xgb: 0.704\n"
     ]
    }
   ],
   "source": [
    "xgb_m = xgb.XGBClassifier(n_estimators=100,max_depth=5,seed=42,max_leaves=0,\n",
    "                          use_label_encoder=False,n_jobs=-1,learning_rate=1)\n",
    "xgb_m.fit(X_train, y_train)\n",
    "\n",
    "y_train_pred = xgb_m.predict(X_train)\n",
    "y_test_pred = xgb_m.predict(X_test)\n",
    "\n",
    "print(\"Accuracy para y_train :\",metrics.accuracy_score(y_train, y_train_pred))\n",
    "print(\"Recall para y_train :\",metrics.recall_score(y_train, y_train_pred))\n",
    "print(\"f1 para y_train :\",metrics.f1_score(y_train, y_train_pred))\n",
    "\n",
    "print(\"Accuracy para y_test :\",metrics.accuracy_score(y_test, y_test_pred))\n",
    "print(\"Recall para y_test :\",metrics.recall_score(y_test, y_test_pred))\n",
    "print(\"f1 para y_test :\",metrics.f1_score(y_test, y_test_pred))\n",
    "\n",
    "from sklearn.metrics import roc_auc_score\n",
    "y_scores = xgb_m.predict_proba(X_test)\n",
    "# Calculate area under the curve\n",
    "auc = roc_auc_score(y_test, y_scores[:,1])\n",
    "\n",
    "print(\"Area bajo curva ROC para xgb: {:.3f}\".format(auc))"
   ]
  },
  {
   "attachments": {},
   "cell_type": "markdown",
   "metadata": {},
   "source": [
    "Por ultimo se ultiliza un modelo de ensamblado, en este caso se usa Voting el cual usa el voto mayoritario de los modelos anteriores para determinar sus predicciones."
   ]
  },
  {
   "cell_type": "code",
   "execution_count": 8,
   "metadata": {},
   "outputs": [
    {
     "name": "stderr",
     "output_type": "stream",
     "text": [
      "c:\\Users\\Lautaro\\AppData\\Local\\Programs\\Python\\Python310\\lib\\site-packages\\xgboost\\sklearn.py:1421: UserWarning: `use_label_encoder` is deprecated in 1.7.0.\n",
      "  warnings.warn(\"`use_label_encoder` is deprecated in 1.7.0.\")\n"
     ]
    },
    {
     "name": "stdout",
     "output_type": "stream",
     "text": [
      "Accuracy para y_train: 0.641\n",
      "Recall para y_train: 0.8257990632937411\n",
      "f1 para y_train: 0.7413340128463101\n",
      "Accuracy para y_test: 0.6438658536585365\n",
      "Recall para y_test: 0.8258716206957305\n",
      "f1 para y_test: 0.7428838077461501\n"
     ]
    }
   ],
   "source": [
    "#Estimator_list es la lista de los modelos que se cargan en el ensamblado\n",
    "estimator_list = [\n",
    "    ('modelo 3',xgb_m),('modelo 2',gauss),\n",
    "    ('modelo 1',regress),]\n",
    "\n",
    "voting_model = VotingClassifier(\n",
    "    estimators=estimator_list,voting=\"hard\",n_jobs=-1)\n",
    "\n",
    "voting_model.fit(X_train, y_train)\n",
    "\n",
    "y_train_pred = voting_model.predict(X_train)\n",
    "y_test_pred = voting_model.predict(X_test)\n",
    "\n",
    "print(\"Accuracy para y_train:\",metrics.accuracy_score(y_train, y_train_pred))\n",
    "print(\"Recall para y_train:\",metrics.recall_score(y_train, y_train_pred))\n",
    "print(\"f1 para y_train:\",metrics.f1_score(y_train, y_train_pred))\n",
    "\n",
    "print(\"Accuracy para y_test:\",metrics.accuracy_score(y_test, y_test_pred))\n",
    "print(\"Recall para y_test:\",metrics.recall_score(y_test, y_test_pred))\n",
    "print(\"f1 para y_test:\",metrics.f1_score(y_test, y_test_pred))"
   ]
  },
  {
   "cell_type": "code",
   "execution_count": 9,
   "metadata": {},
   "outputs": [
    {
     "data": {
      "text/plain": [
       "54226    1\n",
       "1540     1\n",
       "1833     0\n",
       "76207    0\n",
       "84655    1\n",
       "Name: pred, dtype: int64"
      ]
     },
     "execution_count": 9,
     "metadata": {},
     "output_type": "execute_result"
    }
   ],
   "source": [
    "#Se separan las columnas necesarias de df_test para su testeo con el modelo entrenado\n",
    "pred_column=df_test.drop(columns=[\"Stay (in days)\"])\n",
    "#Se utiliza el modelo ya entrenado para realizar las prediccions sobre la columna target de df_test\n",
    "pred_model=voting_model.predict(pred_column)\n",
    "\n",
    "#Se agrega la columna \"pred\" tal como se pide en la consigna del trabajo\n",
    "df_test[\"pred\"]=pred_model\n",
    "df_test[\"pred\"].sample(5)\n"
   ]
  },
  {
   "attachments": {},
   "cell_type": "markdown",
   "metadata": {},
   "source": [
    "Por ultimo se guarda un .csv con el nombre de github y contiene solo la columna \"pred\" que se completo usando el modelo entrenado"
   ]
  },
  {
   "cell_type": "code",
   "execution_count": 10,
   "metadata": {},
   "outputs": [],
   "source": [
    "pred=pd.DataFrame(df_test[\"pred\"])\n",
    "pred.to_csv(\"Lautaro555.csv\",index=False)"
   ]
  }
 ],
 "metadata": {
  "kernelspec": {
   "display_name": "Python 3",
   "language": "python",
   "name": "python3"
  },
  "language_info": {
   "codemirror_mode": {
    "name": "ipython",
    "version": 3
   },
   "file_extension": ".py",
   "mimetype": "text/x-python",
   "name": "python",
   "nbconvert_exporter": "python",
   "pygments_lexer": "ipython3",
   "version": "3.10.7"
  },
  "orig_nbformat": 4,
  "vscode": {
   "interpreter": {
    "hash": "2711725d473bbbc5495942fb8452d9b92540956864e278750e6f52a820e4fcee"
   }
  }
 },
 "nbformat": 4,
 "nbformat_minor": 2
}
