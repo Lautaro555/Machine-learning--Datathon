{
 "cells": [
  {
   "cell_type": "code",
   "execution_count": 1,
   "metadata": {},
   "outputs": [],
   "source": [
    "import pandas as pd\n",
    "import numpy as np\n",
    "import seaborn as sns"
   ]
  },
  {
   "attachments": {},
   "cell_type": "markdown",
   "metadata": {},
   "source": [
    "Se cargan los datasets y se agrega la columna \"stay (in days)\" al dataframe con los datos de test, la cual en este caso es la columna objetivo a predecir"
   ]
  },
  {
   "cell_type": "code",
   "execution_count": 2,
   "metadata": {},
   "outputs": [],
   "source": [
    "df_test=pd.read_csv(\"..\\datasets_original\\hospitalizaciones_test.csv\",sep=\",\")\n",
    "df_train=pd.read_csv(\"..\\datasets_original\\hospitalizaciones_train.csv\",sep=\",\")\n",
    "df_test[\"Stay (in days)\"]=np.nan\n"
   ]
  },
  {
   "attachments": {},
   "cell_type": "markdown",
   "metadata": {},
   "source": [
    "En la columna \"stay (in days)\" del dataset de testeo, los valores menores o iguales a 8 dias se reemplazan por 0, y el resto por 1"
   ]
  },
  {
   "cell_type": "code",
   "execution_count": 3,
   "metadata": {},
   "outputs": [],
   "source": [
    "df_train['Stay (in days)'] = np.where(df_train['Stay (in days)']<=8, 0, 1)"
   ]
  },
  {
   "attachments": {},
   "cell_type": "markdown",
   "metadata": {},
   "source": [
    "Se revisa que no haya valores nulos"
   ]
  },
  {
   "cell_type": "code",
   "execution_count": 4,
   "metadata": {},
   "outputs": [
    {
     "name": "stdout",
     "output_type": "stream",
     "text": [
      "Available Extra Rooms in Hospital    0\n",
      "Department                           0\n",
      "Ward_Facility_Code                   0\n",
      "doctor_name                          0\n",
      "staff_available                      0\n",
      "patientid                            0\n",
      "Age                                  0\n",
      "gender                               0\n",
      "Type of Admission                    0\n",
      "Severity of Illness                  0\n",
      "health_conditions                    0\n",
      "Visitors with Patient                0\n",
      "Insurance                            0\n",
      "Admission_Deposit                    0\n",
      "Stay (in days)                       0\n",
      "dtype: int64\n"
     ]
    }
   ],
   "source": [
    "print(df_train.isna().sum())"
   ]
  },
  {
   "cell_type": "code",
   "execution_count": 5,
   "metadata": {},
   "outputs": [
    {
     "name": "stdout",
     "output_type": "stream",
     "text": [
      "Available Extra Rooms in Hospital        0\n",
      "Department                               0\n",
      "Ward_Facility_Code                       0\n",
      "doctor_name                              0\n",
      "staff_available                          0\n",
      "patientid                                0\n",
      "Age                                      0\n",
      "gender                                   0\n",
      "Type of Admission                        0\n",
      "Severity of Illness                      0\n",
      "health_conditions                        0\n",
      "Visitors with Patient                    0\n",
      "Insurance                                0\n",
      "Admission_Deposit                        0\n",
      "Stay (in days)                       90000\n",
      "dtype: int64\n"
     ]
    }
   ],
   "source": [
    "print(df_test.isna().sum())"
   ]
  },
  {
   "attachments": {},
   "cell_type": "markdown",
   "metadata": {},
   "source": [
    "Tambien se reviso que no haya valores erroneos en las columnas y se evalua el tipo de datos"
   ]
  },
  {
   "cell_type": "code",
   "execution_count": 6,
   "metadata": {},
   "outputs": [
    {
     "name": "stdout",
     "output_type": "stream",
     "text": [
      "[ 4  2  7  3  5 10  6  1 21  8 11 13  9 14 24  0 12 20]\n",
      "['gynecology' 'anesthesia' 'TB & Chest disease' 'radiotherapy' 'surgery']\n",
      "['D' 'B' 'E' 'F' 'A' 'C']\n",
      "['Dr Sophia' 'Dr Olivia' 'Dr Mark' 'Dr John' 'Dr Sarah' 'Dr Sam'\n",
      " 'Dr Nathan' 'Dr Simon' 'Dr Isaac']\n",
      "[ 0  2  8  7 10  5  9  3  6  4  1]\n",
      "[33070 34808 44577 ... 40881 51342 63598]\n",
      "['41-50' '31-40' '21-30' '71-80' '11-20' '51-60' '61-70' '81-90' '91-100'\n",
      " '0-10']\n",
      "['Female' 'Male' 'Other']\n",
      "['Trauma' 'Urgent' 'Emergency']\n",
      "['Extreme' 'Minor' 'Moderate']\n",
      "['Diabetes' 'Heart disease' 'None' 'Other' 'Asthama' 'High Blood Pressure']\n",
      "[ 4  2  3 11  9  6  8 12  5  1 14  7 13 10 22 18  0 16 20 21 19 23 15 24\n",
      " 17 30 32 25]\n",
      "['Yes' 'No']\n",
      "[2966.408696 3554.835677 5624.733654 ... 3816.99421  3841.577491\n",
      " 4329.046412]\n",
      "[0 1]\n"
     ]
    }
   ],
   "source": [
    "for i in range (15):\n",
    " print(df_train[df_train.columns[i]].unique())"
   ]
  },
  {
   "cell_type": "code",
   "execution_count": 7,
   "metadata": {},
   "outputs": [
    {
     "name": "stdout",
     "output_type": "stream",
     "text": [
      "[ 3  2  4  5  1  9  6 10 13 11 24 20  7 14 12  0 21  8]\n",
      "['gynecology' 'TB & Chest disease' 'radiotherapy' 'anesthesia' 'surgery']\n",
      "['F' 'E' 'A' 'D' 'B' 'C']\n",
      "['Dr Olivia' 'Dr John' 'Dr Sam' 'Dr Sarah' 'Dr Sophia' 'Dr Nathan'\n",
      " 'Dr Mark' 'Dr Isaac' 'Dr Simon']\n",
      "[10  4  7  1  6  5  8  0  9  3  2]\n",
      "[  2858  65657  45598 ...  75642 118184  33937]\n",
      "['21-30' '51-60' '71-80' '41-50' '31-40' '0-10' '61-70' '11-20' '81-90'\n",
      " '91-100']\n",
      "['Female' 'Other' 'Male']\n",
      "['Trauma' 'Urgent' 'Emergency']\n",
      "['Moderate' 'Extreme' 'Minor']\n",
      "['Other' 'Asthama' 'None' 'Diabetes' 'Heart disease' 'High Blood Pressure']\n",
      "[ 2  3  4  8  6 13 14  5  9  1 10  7 12 23 11 19 22  0 17 32 15 24 18 16\n",
      " 20 21 25 30]\n",
      "['No' 'Yes']\n",
      "[4749.640225 4122.261324 5459.067882 ... 5456.930075 4694.127772\n",
      " 4713.868519]\n",
      "[nan]\n"
     ]
    }
   ],
   "source": [
    "for i in range (15):\n",
    " print(df_test[df_test.columns[i]].unique())"
   ]
  },
  {
   "attachments": {},
   "cell_type": "markdown",
   "metadata": {},
   "source": [
    "Al evaluar si hay valores duplicados no se encuentra ninguno"
   ]
  },
  {
   "cell_type": "code",
   "execution_count": 8,
   "metadata": {},
   "outputs": [
    {
     "name": "stdout",
     "output_type": "stream",
     "text": [
      "duplicados en df_test:  0\n",
      "duplicados en df_train:  0\n"
     ]
    }
   ],
   "source": [
    "print(\"duplicados en df_test: \",len(df_test)-len(df_test.drop_duplicates()))\n",
    "print(\"duplicados en df_train: \",len(df_train)-len(df_train.drop_duplicates()))"
   ]
  },
  {
   "attachments": {},
   "cell_type": "markdown",
   "metadata": {},
   "source": [
    "Para convertir las variables categoricas a numeros se utiliza OneHotEncoder, excepto en las columnas 'Admission_Deposit','patientid',\"Stay (in days)\" que por el tipo de dato que presentan no es necesario."
   ]
  },
  {
   "cell_type": "code",
   "execution_count": 9,
   "metadata": {},
   "outputs": [
    {
     "name": "stderr",
     "output_type": "stream",
     "text": [
      "c:\\Users\\Lautaro\\AppData\\Local\\Programs\\Python\\Python310\\lib\\site-packages\\sklearn\\utils\\deprecation.py:87: FutureWarning: Function get_feature_names is deprecated; get_feature_names is deprecated in 1.0 and will be removed in 1.2. Please use get_feature_names_out instead.\n",
      "  warnings.warn(msg, category=FutureWarning)\n",
      "c:\\Users\\Lautaro\\AppData\\Local\\Programs\\Python\\Python310\\lib\\site-packages\\sklearn\\utils\\deprecation.py:87: FutureWarning: Function get_feature_names is deprecated; get_feature_names is deprecated in 1.0 and will be removed in 1.2. Please use get_feature_names_out instead.\n",
      "  warnings.warn(msg, category=FutureWarning)\n"
     ]
    }
   ],
   "source": [
    "from sklearn.preprocessing import OneHotEncoder\n",
    "\n",
    "enc = OneHotEncoder(drop='first', sparse=False)\n",
    "\n",
    "onehot = enc.fit_transform(df_train.drop(['Admission_Deposit','patientid',\"Stay (in days)\"], axis=1))\n",
    "onehot = pd.DataFrame(onehot, columns=enc.get_feature_names(df_train.drop(['Admission_Deposit','patientid',\"Stay (in days)\"], axis=1).columns))\n",
    "df_train = pd.concat([df_train[['Admission_Deposit','patientid',\"Stay (in days)\"]], onehot], axis=1)\n",
    "\n",
    "#La transformacion se realiza en ambos dataset ya que ambos deben tener la misma cantidad de columnas y tipo de datos\n",
    "onehot = enc.fit_transform(df_test.drop(['Admission_Deposit','patientid',\"Stay (in days)\"], axis=1))\n",
    "onehot = pd.DataFrame(onehot, columns=enc.get_feature_names(df_test.drop(['Admission_Deposit','patientid',\"Stay (in days)\"], axis=1).columns))\n",
    "df_test = pd.concat([df_test[['Admission_Deposit','patientid',\"Stay (in days)\"]], onehot], axis=1)"
   ]
  },
  {
   "attachments": {},
   "cell_type": "markdown",
   "metadata": {},
   "source": [
    "Para elegir los mejores features se hace una lista con los que mayor correlacion tienen con la columna objetivo"
   ]
  },
  {
   "cell_type": "code",
   "execution_count": 10,
   "metadata": {},
   "outputs": [
    {
     "name": "stdout",
     "output_type": "stream",
     "text": [
      "Stay (in days)                         1.000000\n",
      "doctor_name_Dr Mark                    0.246904\n",
      "Department_anesthesia                  0.242282\n",
      "Department_gynecology                  0.230424\n",
      "gender_Male                            0.184325\n",
      "Age_61-70                              0.184272\n",
      "Age_51-60                              0.165409\n",
      "Age_71-80                              0.153605\n",
      "Age_31-40                              0.140341\n",
      "Ward_Facility_Code_E                   0.138988\n",
      "Ward_Facility_Code_F                   0.108095\n",
      "Age_81-90                              0.100105\n",
      "doctor_name_Dr John                    0.099091\n",
      "Age_41-50                              0.092119\n",
      "Ward_Facility_Code_D                   0.081017\n",
      "doctor_name_Dr Nathan                  0.077513\n",
      "doctor_name_Dr Olivia                  0.077157\n",
      "Available Extra Rooms in Hospital_4    0.066835\n",
      "doctor_name_Dr Sarah                   0.065817\n",
      "Ward_Facility_Code_B                   0.064377\n",
      "Name: Stay (in days), dtype: float64\n"
     ]
    },
    {
     "name": "stderr",
     "output_type": "stream",
     "text": [
      "C:\\Users\\Lautaro\\AppData\\Local\\Temp\\ipykernel_14784\\3519889219.py:1: FutureWarning: The series.append method is deprecated and will be removed from pandas in a future version. Use pandas.concat instead.\n",
      "  list_features=df_train.corr().nlargest(10,\"Stay (in days)\")[\"Stay (in days)\"].append(df_train.corr().nsmallest(10,\"Stay (in days)\")[\"Stay (in days)\"]*-1)\n"
     ]
    }
   ],
   "source": [
    "list_features=df_train.corr().nlargest(10,\"Stay (in days)\")[\"Stay (in days)\"].append(df_train.corr().nsmallest(10,\"Stay (in days)\")[\"Stay (in days)\"]*-1)\n",
    "print(list_features.sort_values(ascending=False))"
   ]
  },
  {
   "attachments": {},
   "cell_type": "markdown",
   "metadata": {},
   "source": [
    "Se mantienen en el dataset solo las columnas con las que se va a trabajar"
   ]
  },
  {
   "cell_type": "code",
   "execution_count": 11,
   "metadata": {},
   "outputs": [],
   "source": [
    "list_features=list_features.nlargest(10).index\n",
    "df_train=df_train[list_features]\n",
    "df_test=df_test[list_features]\n"
   ]
  },
  {
   "attachments": {},
   "cell_type": "markdown",
   "metadata": {},
   "source": [
    "En el siguiente grafico se pueden ver con mejor claridad las correlaciones"
   ]
  },
  {
   "cell_type": "code",
   "execution_count": 12,
   "metadata": {},
   "outputs": [
    {
     "data": {
      "text/plain": [
       "<AxesSubplot: >"
      ]
     },
     "execution_count": 12,
     "metadata": {},
     "output_type": "execute_result"
    },
    {
     "data": {
      "image/png": "[encoded data removed]",
      "text/plain": [
       "<Figure size 640x480 with 2 Axes>"
      ]
     },
     "metadata": {},
     "output_type": "display_data"
    }
   ],
   "source": [
    "sns.heatmap(df_train.corr()[['Stay (in days)']],annot=True,vmin = -1, vmax = +1)"
   ]
  },
  {
   "attachments": {},
   "cell_type": "markdown",
   "metadata": {},
   "source": [
    "Por ultimo se guardan los dataset modificados para cargarlos en el archivo donde se utilizara el modelo"
   ]
  },
  {
   "cell_type": "code",
   "execution_count": 13,
   "metadata": {},
   "outputs": [],
   "source": [
    "df_train.to_csv(\"df_train_mod.csv\",index=False)\n",
    "df_test.to_csv(\"df_test_mod.csv\",index=False)"
   ]
  }
 ],
 "metadata": {
  "kernelspec": {
   "display_name": "Python 3",
   "language": "python",
   "name": "python3"
  },
  "language_info": {
   "codemirror_mode": {
    "name": "ipython",
    "version": 3
   },
   "file_extension": ".py",
   "mimetype": "text/x-python",
   "name": "python",
   "nbconvert_exporter": "python",
   "pygments_lexer": "ipython3",
   "version": "3.10.7"
  },
  "orig_nbformat": 4,
  "vscode": {
   "interpreter": {
    "hash": "2711725d473bbbc5495942fb8452d9b92540956864e278750e6f52a820e4fcee"
   }
  }
 },
 "nbformat": 4,
 "nbformat_minor": 2
}
