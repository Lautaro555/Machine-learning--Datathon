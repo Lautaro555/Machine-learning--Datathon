{
 "cells": [
  {
   "cell_type": "code",
   "execution_count": 1,
   "metadata": {},
   "outputs": [],
   "source": [
    "import pandas as pd\n",
    "import numpy as np"
   ]
  },
  {
   "cell_type": "code",
   "execution_count": 2,
   "metadata": {},
   "outputs": [],
   "source": [
    "df_test=pd.read_csv(\"..\\datasets_original\\hospitalizaciones_test.csv\",sep=\",\")\n",
    "df_train=pd.read_csv(\"..\\datasets_original\\hospitalizaciones_train.csv\",sep=\",\")\n",
    "df_test[\"Stay (in days)\"]=np.nan"
   ]
  },
  {
   "cell_type": "code",
   "execution_count": 3,
   "metadata": {},
   "outputs": [],
   "source": [
    "df_train['Stay (in days)'] = np.where(df_train['Stay (in days)']<8, 0, 1)"
   ]
  },
  {
   "cell_type": "code",
   "execution_count": 4,
   "metadata": {},
   "outputs": [
    {
     "name": "stdout",
     "output_type": "stream",
     "text": [
      "Available Extra Rooms in Hospital    0\n",
      "Department                           0\n",
      "Ward_Facility_Code                   0\n",
      "doctor_name                          0\n",
      "staff_available                      0\n",
      "patientid                            0\n",
      "Age                                  0\n",
      "gender                               0\n",
      "Type of Admission                    0\n",
      "Severity of Illness                  0\n",
      "health_conditions                    0\n",
      "Visitors with Patient                0\n",
      "Insurance                            0\n",
      "Admission_Deposit                    0\n",
      "Stay (in days)                       0\n",
      "dtype: int64\n"
     ]
    }
   ],
   "source": [
    "print(df_train.isna().sum())"
   ]
  },
  {
   "cell_type": "code",
   "execution_count": 5,
   "metadata": {},
   "outputs": [
    {
     "name": "stdout",
     "output_type": "stream",
     "text": [
      "Available Extra Rooms in Hospital        0\n",
      "Department                               0\n",
      "Ward_Facility_Code                       0\n",
      "doctor_name                              0\n",
      "staff_available                          0\n",
      "patientid                                0\n",
      "Age                                      0\n",
      "gender                                   0\n",
      "Type of Admission                        0\n",
      "Severity of Illness                      0\n",
      "health_conditions                        0\n",
      "Visitors with Patient                    0\n",
      "Insurance                                0\n",
      "Admission_Deposit                        0\n",
      "Stay (in days)                       90000\n",
      "dtype: int64\n"
     ]
    }
   ],
   "source": [
    "print(df_test.isna().sum())"
   ]
  },
  {
   "cell_type": "code",
   "execution_count": 6,
   "metadata": {},
   "outputs": [
    {
     "name": "stdout",
     "output_type": "stream",
     "text": [
      "[ 4  2  7  3  5 10  6  1 21  8 11 13  9 14 24  0 12 20]\n",
      "['gynecology' 'anesthesia' 'TB & Chest disease' 'radiotherapy' 'surgery']\n",
      "['D' 'B' 'E' 'F' 'A' 'C']\n",
      "['Dr Sophia' 'Dr Olivia' 'Dr Mark' 'Dr John' 'Dr Sarah' 'Dr Sam'\n",
      " 'Dr Nathan' 'Dr Simon' 'Dr Isaac']\n",
      "[ 0  2  8  7 10  5  9  3  6  4  1]\n",
      "[33070 34808 44577 ... 40881 51342 63598]\n",
      "['41-50' '31-40' '21-30' '71-80' '11-20' '51-60' '61-70' '81-90' '91-100'\n",
      " '0-10']\n",
      "['Female' 'Male' 'Other']\n",
      "['Trauma' 'Urgent' 'Emergency']\n",
      "['Extreme' 'Minor' 'Moderate']\n",
      "['Diabetes' 'Heart disease' 'None' 'Other' 'Asthama' 'High Blood Pressure']\n",
      "[ 4  2  3 11  9  6  8 12  5  1 14  7 13 10 22 18  0 16 20 21 19 23 15 24\n",
      " 17 30 32 25]\n",
      "['Yes' 'No']\n",
      "[2966.408696 3554.835677 5624.733654 ... 3816.99421  3841.577491\n",
      " 4329.046412]\n",
      "[1 0]\n"
     ]
    }
   ],
   "source": [
    "for i in range (15):\n",
    " print(df_train[df_train.columns[i]].unique())"
   ]
  },
  {
   "cell_type": "code",
   "execution_count": 7,
   "metadata": {},
   "outputs": [
    {
     "name": "stdout",
     "output_type": "stream",
     "text": [
      "[ 3  2  4  5  1  9  6 10 13 11 24 20  7 14 12  0 21  8]\n",
      "['gynecology' 'TB & Chest disease' 'radiotherapy' 'anesthesia' 'surgery']\n",
      "['F' 'E' 'A' 'D' 'B' 'C']\n",
      "['Dr Olivia' 'Dr John' 'Dr Sam' 'Dr Sarah' 'Dr Sophia' 'Dr Nathan'\n",
      " 'Dr Mark' 'Dr Isaac' 'Dr Simon']\n",
      "[10  4  7  1  6  5  8  0  9  3  2]\n",
      "[  2858  65657  45598 ...  75642 118184  33937]\n",
      "['21-30' '51-60' '71-80' '41-50' '31-40' '0-10' '61-70' '11-20' '81-90'\n",
      " '91-100']\n",
      "['Female' 'Other' 'Male']\n",
      "['Trauma' 'Urgent' 'Emergency']\n",
      "['Moderate' 'Extreme' 'Minor']\n",
      "['Other' 'Asthama' 'None' 'Diabetes' 'Heart disease' 'High Blood Pressure']\n",
      "[ 2  3  4  8  6 13 14  5  9  1 10  7 12 23 11 19 22  0 17 32 15 24 18 16\n",
      " 20 21 25 30]\n",
      "['No' 'Yes']\n",
      "[4749.640225 4122.261324 5459.067882 ... 5456.930075 4694.127772\n",
      " 4713.868519]\n",
      "[nan]\n"
     ]
    }
   ],
   "source": [
    "for i in range (15):\n",
    " print(df_test[df_test.columns[i]].unique())"
   ]
  },
  {
   "cell_type": "code",
   "execution_count": 8,
   "metadata": {},
   "outputs": [
    {
     "name": "stdout",
     "output_type": "stream",
     "text": [
      "duplicados en df_test:  0\n",
      "duplicados en df_train:  0\n"
     ]
    }
   ],
   "source": [
    "print(\"duplicados en df_test: \",len(df_test)-len(df_test.drop_duplicates()))\n",
    "print(\"duplicados en df_train: \",len(df_train)-len(df_train.drop_duplicates()))"
   ]
  },
  {
   "cell_type": "code",
   "execution_count": 9,
   "metadata": {},
   "outputs": [],
   "source": [
    "df_train=pd.get_dummies(df_train)\n",
    "df_test=pd.get_dummies(df_train)\n"
   ]
  },
  {
   "cell_type": "code",
   "execution_count": 10,
   "metadata": {},
   "outputs": [],
   "source": [
    "df_train_stay=df_train[\"Stay (in days)\"]\n",
    "from sklearn.preprocessing import StandardScaler\n",
    "scaler = StandardScaler()\n",
    "scaler.fit(df_test)\n",
    "StandardScaler()\n",
    "lista_columnas_completa=[]\n",
    "for n in df_test.columns:\n",
    "    lista_columnas_completa.append(n)\n",
    "df_test=scaler.transform(df_test)\n",
    "df_test=pd.DataFrame(df_test,columns=lista_columnas_completa)\n",
    "lista_columnas_completa=[]\n",
    "for n in df_train.columns:\n",
    "    lista_columnas_completa.append(n)\n",
    "scaler.fit(df_train)\n",
    "df_train=scaler.transform(df_train)\n",
    "df_train=pd.DataFrame(df_train,columns=lista_columnas_completa)\n",
    "\n",
    "df_train[\"Stay (in days)\"]=df_train_stay\n",
    "df_test[\"Stay (in days)\"]=np.nan"
   ]
  },
  {
   "cell_type": "code",
   "execution_count": 12,
   "metadata": {},
   "outputs": [
    {
     "name": "stdout",
     "output_type": "stream",
     "text": [
      "Stay (in days)             1.000000\n",
      "doctor_name_Dr Mark        0.133455\n",
      "Department_anesthesia      0.130680\n",
      "Age_31-40                 -0.169099\n",
      "doctor_name_Dr Sam        -0.237977\n",
      "Department_radiotherapy   -0.288060\n",
      "doctor_name_Dr Sam        -0.237977\n",
      "Age_31-40                 -0.169099\n",
      "Department_anesthesia      0.130680\n",
      "Name: Stay (in days), dtype: float64\n"
     ]
    },
    {
     "name": "stderr",
     "output_type": "stream",
     "text": [
      "C:\\Users\\Lautaro\\AppData\\Local\\Temp\\ipykernel_11732\\1740225458.py:1: FutureWarning: The series.append method is deprecated and will be removed from pandas in a future version. Use pandas.concat instead.\n",
      "  print(df_train.corr().nlargest(5,\"Stay (in days)\")[\"Stay (in days)\"].append(df_train.corr().nsmallest(4,\"Stay (in days)\")[\"Stay (in days)\"]))\n"
     ]
    }
   ],
   "source": [
    "print(df_train.corr().nlargest(5,\"Stay (in days)\")[\"Stay (in days)\"].append(df_train.corr().nsmallest(4,\"Stay (in days)\")[\"Stay (in days)\"]))"
   ]
  },
  {
   "cell_type": "code",
   "execution_count": 11,
   "metadata": {},
   "outputs": [
    {
     "name": "stdout",
     "output_type": "stream",
     "text": [
      "   doctor_name_Dr Mark  Department_anesthesia  Department_radiotherapy  \\\n",
      "0            -0.327841              -0.311432                -0.450346   \n",
      "1            -0.327841              -0.311432                -0.450346   \n",
      "2            -0.327841              -0.311432                -0.450346   \n",
      "3            -0.327841              -0.311432                -0.450346   \n",
      "4             3.050262               3.210973                -0.450346   \n",
      "\n",
      "   doctor_name_Dr Sam  Age_31-40  Stay (in days)  \n",
      "0           -0.371973  -0.593395               1  \n",
      "1           -0.371973   1.685218               1  \n",
      "2           -0.371973  -0.593395               0  \n",
      "3           -0.371973   1.685218               1  \n",
      "4           -0.371973  -0.593395               1  \n",
      "   doctor_name_Dr Mark  Department_anesthesia  Department_radiotherapy  \\\n",
      "0            -0.327841              -0.311432                -0.450346   \n",
      "1            -0.327841              -0.311432                -0.450346   \n",
      "2            -0.327841              -0.311432                -0.450346   \n",
      "3            -0.327841              -0.311432                -0.450346   \n",
      "4             3.050262               3.210973                -0.450346   \n",
      "\n",
      "   doctor_name_Dr Sam  Age_31-40  Stay (in days)  \n",
      "0           -0.371973  -0.593395             NaN  \n",
      "1           -0.371973   1.685218             NaN  \n",
      "2           -0.371973  -0.593395             NaN  \n",
      "3           -0.371973   1.685218             NaN  \n",
      "4           -0.371973  -0.593395             NaN  \n"
     ]
    }
   ],
   "source": [
    "df_train=df_train[[\"doctor_name_Dr Mark\",\"Department_anesthesia\",\"Department_radiotherapy\",\"doctor_name_Dr Sam\",\"Age_31-40\",\"Stay (in days)\"]]\n",
    "print(df_train.head(5))\n",
    "df_test=df_test[[\"doctor_name_Dr Mark\",\"Department_anesthesia\",\"Department_radiotherapy\",\"doctor_name_Dr Sam\",\"Age_31-40\",\"Stay (in days)\"]]\n",
    "print(df_test.head(5))"
   ]
  },
  {
   "cell_type": "code",
   "execution_count": 34,
   "metadata": {},
   "outputs": [],
   "source": [
    "df_train.to_csv(\"df_train_mod.csv\",index=False)\n",
    "df_test.to_csv(\"df_test_mod.csv\",index=False)"
   ]
  }
 ],
 "metadata": {
  "kernelspec": {
   "display_name": "Python 3",
   "language": "python",
   "name": "python3"
  },
  "language_info": {
   "codemirror_mode": {
    "name": "ipython",
    "version": 3
   },
   "file_extension": ".py",
   "mimetype": "text/x-python",
   "name": "python",
   "nbconvert_exporter": "python",
   "pygments_lexer": "ipython3",
   "version": "3.10.7 (tags/v3.10.7:6cc6b13, Sep  5 2022, 14:08:36) [MSC v.1933 64 bit (AMD64)]"
  },
  "orig_nbformat": 4,
  "vscode": {
   "interpreter": {
    "hash": "2711725d473bbbc5495942fb8452d9b92540956864e278750e6f52a820e4fcee"
   }
  }
 },
 "nbformat": 4,
 "nbformat_minor": 2
}
