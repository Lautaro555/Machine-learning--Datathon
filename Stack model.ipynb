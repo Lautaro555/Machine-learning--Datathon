{
 "cells": [
  {
   "attachments": {},
   "cell_type": "markdown",
   "metadata": {},
   "source": [
    "Se importan las librerias"
   ]
  },
  {
   "cell_type": "code",
   "execution_count": 22,
   "metadata": {},
   "outputs": [],
   "source": [
    "import pandas as pd\n",
    "import matplotlib.pyplot as plt\n",
    "import seaborn as sns\n",
    "import warnings\n",
    "warnings.filterwarnings(\"ignore\", category=DeprecationWarning)\n",
    "from sklearn.exceptions import DataConversionWarning\n",
    "warnings.filterwarnings(action='ignore', category=DataConversionWarning)"
   ]
  },
  {
   "cell_type": "code",
   "execution_count": null,
   "metadata": {},
   "outputs": [],
   "source": [
    "df_test=pd.read_csv(\"..\\datasets_original\\hospitalizaciones_test.csv\",sep=\",\")\n",
    "df_train=pd.read_csv(\"..\\datasets_original\\hospitalizaciones_train.csv\",sep=\",\")\n",
    "df_test[\"Stay (in days)\"]=np.nan"
   ]
  },
  {
   "cell_type": "code",
   "execution_count": null,
   "metadata": {},
   "outputs": [],
   "source": [
    "df_train['Stay (in days)'] = np.where(df_train['Stay (in days)']<8, 0, 1)"
   ]
  },
  {
   "cell_type": "code",
   "execution_count": null,
   "metadata": {},
   "outputs": [],
   "source": []
  },
  {
   "cell_type": "code",
   "execution_count": null,
   "metadata": {},
   "outputs": [],
   "source": []
  },
  {
   "cell_type": "code",
   "execution_count": null,
   "metadata": {},
   "outputs": [],
   "source": []
  },
  {
   "attachments": {},
   "cell_type": "markdown",
   "metadata": {},
   "source": [
    "Se cargan los .csv previamente modificados y se crean los dataframe test y train."
   ]
  },
  {
   "cell_type": "code",
   "execution_count": 2,
   "metadata": {},
   "outputs": [],
   "source": [
    "df_test=pd.read_csv(\"data_cleansing\\df_test_mod.csv\",sep=\",\")\n",
    "df_train=pd.read_csv(\"data_cleansing\\df_train_mod.csv\",sep=\",\")"
   ]
  },
  {
   "attachments": {},
   "cell_type": "markdown",
   "metadata": {},
   "source": [
    "Debido a la gran cantidad de columnas, en lugar de usar un grafico se opto por imprimir las 4 columnas con mayor y menor correlacion con la columna \"Stay (in days)\""
   ]
  },
  {
   "cell_type": "code",
   "execution_count": 3,
   "metadata": {},
   "outputs": [
    {
     "name": "stdout",
     "output_type": "stream",
     "text": [
      "Stay (in days)             1.000000\n",
      "doctor_name_Dr Mark        0.133455\n",
      "Department_anesthesia      0.130680\n",
      "Department_gynecology      0.105449\n",
      "Age_21-30                  0.100590\n",
      "Department_radiotherapy   -0.288060\n",
      "doctor_name_Dr Sam        -0.237977\n",
      "Age_31-40                 -0.169099\n",
      "Age_41-50                 -0.132071\n",
      "Name: Stay (in days), dtype: float64\n"
     ]
    },
    {
     "name": "stderr",
     "output_type": "stream",
     "text": [
      "C:\\Users\\Lautaro\\AppData\\Local\\Temp\\ipykernel_12040\\1740225458.py:1: FutureWarning: The series.append method is deprecated and will be removed from pandas in a future version. Use pandas.concat instead.\n",
      "  print(df_train.corr().nlargest(5,\"Stay (in days)\")[\"Stay (in days)\"].append(df_train.corr().nsmallest(4,\"Stay (in days)\")[\"Stay (in days)\"]))\n"
     ]
    }
   ],
   "source": [
    "print(df_train.corr().nlargest(5,\"Stay (in days)\")[\"Stay (in days)\"].append(df_train.corr().nsmallest(4,\"Stay (in days)\")[\"Stay (in days)\"]))"
   ]
  },
  {
   "attachments": {},
   "cell_type": "markdown",
   "metadata": {},
   "source": [
    "Se analiza la proporcion de los datos"
   ]
  },
  {
   "cell_type": "code",
   "execution_count": 3,
   "metadata": {},
   "outputs": [
    {
     "name": "stdout",
     "output_type": "stream",
     "text": [
      "Porcentaje estadia corta:  14.971219512195121\n",
      "Porcentaje estadia larga:  85.02878048780488\n"
     ]
    }
   ],
   "source": [
    "corta=df_train[(df_train[\"Stay (in days)\"]==0)][\"Stay (in days)\"].value_counts()[0]\n",
    "larga=df_train[(df_train[\"Stay (in days)\"]==1)][\"Stay (in days)\"].value_counts()[1]\n",
    "total=corta+larga\n",
    "print(\"Porcentaje estadia corta: \",(corta/total)*100)\n",
    "print(\"Porcentaje estadia larga: \",(larga/total)*100)"
   ]
  },
  {
   "attachments": {},
   "cell_type": "markdown",
   "metadata": {},
   "source": [
    "Se importan las librerias de scikit-learn"
   ]
  },
  {
   "cell_type": "code",
   "execution_count": 3,
   "metadata": {},
   "outputs": [],
   "source": [
    "from sklearn.model_selection import train_test_split,GridSearchCV\n",
    "from sklearn.metrics import accuracy_score,recall_score\n",
    "import sklearn.metrics as metrics\n",
    "from sklearn.ensemble import StackingClassifier\n",
    "from sklearn.ensemble import RandomForestClassifier #Modelo 1\n",
    "from sklearn.neighbors import KNeighborsClassifier #Modelo 2\n",
    "from sklearn.linear_model import LogisticRegression #Metamodelo"
   ]
  },
  {
   "attachments": {},
   "cell_type": "markdown",
   "metadata": {},
   "source": [
    "Se arma el test_split usando df_train y 30% de esos datos para testeo"
   ]
  },
  {
   "cell_type": "code",
   "execution_count": 4,
   "metadata": {},
   "outputs": [],
   "source": [
    "y=df_train[\"Stay (in days)\"].values.reshape(-1, 1)\n",
    "#Se toman solo las columnas necesarias\n",
    "X=df_train[[\"doctor_name_Dr Mark\",\"Department_anesthesia\",\"Department_radiotherapy\",\"doctor_name_Dr Sam\",\"Age_31-40\"]]\n",
    "\n",
    "X_train, X_test, y_train, y_test = train_test_split(X, y, stratify=y, test_size=0.3, random_state=42)\n"
   ]
  },
  {
   "attachments": {},
   "cell_type": "markdown",
   "metadata": {},
   "source": [
    "Usando GridSearchCV se obtienen los mejores parametros para el modelo de random forest."
   ]
  },
  {
   "cell_type": "code",
   "execution_count": 18,
   "metadata": {},
   "outputs": [
    {
     "name": "stderr",
     "output_type": "stream",
     "text": [
      "c:\\Users\\Lautaro\\AppData\\Local\\Programs\\Python\\Python310\\lib\\site-packages\\sklearn\\model_selection\\_search.py:910: DataConversionWarning: A column-vector y was passed when a 1d array was expected. Please change the shape of y to (n_samples,), for example using ravel().\n",
      "  self.best_estimator_.fit(X, y, **fit_params)\n"
     ]
    },
    {
     "data": {
      "text/html": [
       "<style>#sk-container-id-4 {color: black;background-color: white;}#sk-container-id-4 pre{padding: 0;}#sk-container-id-4 div.sk-toggleable {background-color: white;}#sk-container-id-4 label.sk-toggleable__label {cursor: pointer;display: block;width: 100%;margin-bottom: 0;padding: 0.3em;box-sizing: border-box;text-align: center;}#sk-container-id-4 label.sk-toggleable__label-arrow:before {content: \"▸\";float: left;margin-right: 0.25em;color: #696969;}#sk-container-id-4 label.sk-toggleable__label-arrow:hover:before {color: black;}#sk-container-id-4 div.sk-estimator:hover label.sk-toggleable__label-arrow:before {color: black;}#sk-container-id-4 div.sk-toggleable__content {max-height: 0;max-width: 0;overflow: hidden;text-align: left;background-color: #f0f8ff;}#sk-container-id-4 div.sk-toggleable__content pre {margin: 0.2em;color: black;border-radius: 0.25em;background-color: #f0f8ff;}#sk-container-id-4 input.sk-toggleable__control:checked~div.sk-toggleable__content {max-height: 200px;max-width: 100%;overflow: auto;}#sk-container-id-4 input.sk-toggleable__control:checked~label.sk-toggleable__label-arrow:before {content: \"▾\";}#sk-container-id-4 div.sk-estimator input.sk-toggleable__control:checked~label.sk-toggleable__label {background-color: #d4ebff;}#sk-container-id-4 div.sk-label input.sk-toggleable__control:checked~label.sk-toggleable__label {background-color: #d4ebff;}#sk-container-id-4 input.sk-hidden--visually {border: 0;clip: rect(1px 1px 1px 1px);clip: rect(1px, 1px, 1px, 1px);height: 1px;margin: -1px;overflow: hidden;padding: 0;position: absolute;width: 1px;}#sk-container-id-4 div.sk-estimator {font-family: monospace;background-color: #f0f8ff;border: 1px dotted black;border-radius: 0.25em;box-sizing: border-box;margin-bottom: 0.5em;}#sk-container-id-4 div.sk-estimator:hover {background-color: #d4ebff;}#sk-container-id-4 div.sk-parallel-item::after {content: \"\";width: 100%;border-bottom: 1px solid gray;flex-grow: 1;}#sk-container-id-4 div.sk-label:hover label.sk-toggleable__label {background-color: #d4ebff;}#sk-container-id-4 div.sk-serial::before {content: \"\";position: absolute;border-left: 1px solid gray;box-sizing: border-box;top: 0;bottom: 0;left: 50%;z-index: 0;}#sk-container-id-4 div.sk-serial {display: flex;flex-direction: column;align-items: center;background-color: white;padding-right: 0.2em;padding-left: 0.2em;position: relative;}#sk-container-id-4 div.sk-item {position: relative;z-index: 1;}#sk-container-id-4 div.sk-parallel {display: flex;align-items: stretch;justify-content: center;background-color: white;position: relative;}#sk-container-id-4 div.sk-item::before, #sk-container-id-4 div.sk-parallel-item::before {content: \"\";position: absolute;border-left: 1px solid gray;box-sizing: border-box;top: 0;bottom: 0;left: 50%;z-index: -1;}#sk-container-id-4 div.sk-parallel-item {display: flex;flex-direction: column;z-index: 1;position: relative;background-color: white;}#sk-container-id-4 div.sk-parallel-item:first-child::after {align-self: flex-end;width: 50%;}#sk-container-id-4 div.sk-parallel-item:last-child::after {align-self: flex-start;width: 50%;}#sk-container-id-4 div.sk-parallel-item:only-child::after {width: 0;}#sk-container-id-4 div.sk-dashed-wrapped {border: 1px dashed gray;margin: 0 0.4em 0.5em 0.4em;box-sizing: border-box;padding-bottom: 0.4em;background-color: white;}#sk-container-id-4 div.sk-label label {font-family: monospace;font-weight: bold;display: inline-block;line-height: 1.2em;}#sk-container-id-4 div.sk-label-container {text-align: center;}#sk-container-id-4 div.sk-container {/* jupyter's `normalize.less` sets `[hidden] { display: none; }` but bootstrap.min.css set `[hidden] { display: none !important; }` so we also need the `!important` here to be able to override the default hidden behavior on the sphinx rendered scikit-learn.org. See: https://github.com/scikit-learn/scikit-learn/issues/21755 */display: inline-block !important;position: relative;}#sk-container-id-4 div.sk-text-repr-fallback {display: none;}</style><div id=\"sk-container-id-4\" class=\"sk-top-container\"><div class=\"sk-text-repr-fallback\"><pre>GridSearchCV(cv=5, estimator=RandomForestClassifier(), n_jobs=-1,\n",
       "             param_grid={&#x27;max_depth&#x27;: [1, 2, 3, 4],\n",
       "                         &#x27;n_estimators&#x27;: [100, 200, 300],\n",
       "                         &#x27;random_state&#x27;: [42]})</pre><b>In a Jupyter environment, please rerun this cell to show the HTML representation or trust the notebook. <br />On GitHub, the HTML representation is unable to render, please try loading this page with nbviewer.org.</b></div><div class=\"sk-container\" hidden><div class=\"sk-item sk-dashed-wrapped\"><div class=\"sk-label-container\"><div class=\"sk-label sk-toggleable\"><input class=\"sk-toggleable__control sk-hidden--visually\" id=\"sk-estimator-id-4\" type=\"checkbox\" ><label for=\"sk-estimator-id-4\" class=\"sk-toggleable__label sk-toggleable__label-arrow\">GridSearchCV</label><div class=\"sk-toggleable__content\"><pre>GridSearchCV(cv=5, estimator=RandomForestClassifier(), n_jobs=-1,\n",
       "             param_grid={&#x27;max_depth&#x27;: [1, 2, 3, 4],\n",
       "                         &#x27;n_estimators&#x27;: [100, 200, 300],\n",
       "                         &#x27;random_state&#x27;: [42]})</pre></div></div></div><div class=\"sk-parallel\"><div class=\"sk-parallel-item\"><div class=\"sk-item\"><div class=\"sk-label-container\"><div class=\"sk-label sk-toggleable\"><input class=\"sk-toggleable__control sk-hidden--visually\" id=\"sk-estimator-id-5\" type=\"checkbox\" ><label for=\"sk-estimator-id-5\" class=\"sk-toggleable__label sk-toggleable__label-arrow\">estimator: RandomForestClassifier</label><div class=\"sk-toggleable__content\"><pre>RandomForestClassifier()</pre></div></div></div><div class=\"sk-serial\"><div class=\"sk-item\"><div class=\"sk-estimator sk-toggleable\"><input class=\"sk-toggleable__control sk-hidden--visually\" id=\"sk-estimator-id-6\" type=\"checkbox\" ><label for=\"sk-estimator-id-6\" class=\"sk-toggleable__label sk-toggleable__label-arrow\">RandomForestClassifier</label><div class=\"sk-toggleable__content\"><pre>RandomForestClassifier()</pre></div></div></div></div></div></div></div></div></div></div>"
      ],
      "text/plain": [
       "GridSearchCV(cv=5, estimator=RandomForestClassifier(), n_jobs=-1,\n",
       "             param_grid={'max_depth': [1, 2, 3, 4],\n",
       "                         'n_estimators': [100, 200, 300],\n",
       "                         'random_state': [42]})"
      ]
     },
     "execution_count": 18,
     "metadata": {},
     "output_type": "execute_result"
    }
   ],
   "source": [
    "grid = { \n",
    "    'n_estimators': [100,200,300],\n",
    "    'max_depth' : [1,2,3,4],\n",
    "    'random_state' : [42]\n",
    "}\n",
    "random_forest_grid = GridSearchCV(estimator=RandomForestClassifier(), param_grid=grid, cv= 5,n_jobs=-1)\n",
    "random_forest_grid.fit(X_train, y_train)\n"
   ]
  },
  {
   "cell_type": "code",
   "execution_count": 6,
   "metadata": {},
   "outputs": [
    {
     "ename": "NameError",
     "evalue": "name 'random_forest_grid' is not defined",
     "output_type": "error",
     "traceback": [
      "\u001b[1;31m---------------------------------------------------------------------------\u001b[0m",
      "\u001b[1;31mNameError\u001b[0m                                 Traceback (most recent call last)",
      "Cell \u001b[1;32mIn [6], line 2\u001b[0m\n\u001b[0;32m      1\u001b[0m \u001b[39m#Estos son los mejores parametros para el modelo\u001b[39;00m\n\u001b[1;32m----> 2\u001b[0m \u001b[39mprint\u001b[39m(random_forest_grid\u001b[39m.\u001b[39mbest_params_)\n",
      "\u001b[1;31mNameError\u001b[0m: name 'random_forest_grid' is not defined"
     ]
    }
   ],
   "source": [
    "#Estos son los mejores parametros para el modelo\n",
    "print(random_forest_grid.best_params_)"
   ]
  },
  {
   "attachments": {},
   "cell_type": "markdown",
   "metadata": {},
   "source": [
    "Se configura el modelo usando los parametros obtenidos con GridSearchCV"
   ]
  },
  {
   "cell_type": "code",
   "execution_count": 9,
   "metadata": {},
   "outputs": [
    {
     "name": "stderr",
     "output_type": "stream",
     "text": [
      "C:\\Users\\Lautaro\\AppData\\Local\\Temp\\ipykernel_12824\\2813575904.py:2: DataConversionWarning: A column-vector y was passed when a 1d array was expected. Please change the shape of y to (n_samples,), for example using ravel().\n",
      "  random_forest.fit(X_train, y_train)\n"
     ]
    },
    {
     "data": {
      "text/html": [
       "<style>#sk-container-id-1 {color: black;background-color: white;}#sk-container-id-1 pre{padding: 0;}#sk-container-id-1 div.sk-toggleable {background-color: white;}#sk-container-id-1 label.sk-toggleable__label {cursor: pointer;display: block;width: 100%;margin-bottom: 0;padding: 0.3em;box-sizing: border-box;text-align: center;}#sk-container-id-1 label.sk-toggleable__label-arrow:before {content: \"▸\";float: left;margin-right: 0.25em;color: #696969;}#sk-container-id-1 label.sk-toggleable__label-arrow:hover:before {color: black;}#sk-container-id-1 div.sk-estimator:hover label.sk-toggleable__label-arrow:before {color: black;}#sk-container-id-1 div.sk-toggleable__content {max-height: 0;max-width: 0;overflow: hidden;text-align: left;background-color: #f0f8ff;}#sk-container-id-1 div.sk-toggleable__content pre {margin: 0.2em;color: black;border-radius: 0.25em;background-color: #f0f8ff;}#sk-container-id-1 input.sk-toggleable__control:checked~div.sk-toggleable__content {max-height: 200px;max-width: 100%;overflow: auto;}#sk-container-id-1 input.sk-toggleable__control:checked~label.sk-toggleable__label-arrow:before {content: \"▾\";}#sk-container-id-1 div.sk-estimator input.sk-toggleable__control:checked~label.sk-toggleable__label {background-color: #d4ebff;}#sk-container-id-1 div.sk-label input.sk-toggleable__control:checked~label.sk-toggleable__label {background-color: #d4ebff;}#sk-container-id-1 input.sk-hidden--visually {border: 0;clip: rect(1px 1px 1px 1px);clip: rect(1px, 1px, 1px, 1px);height: 1px;margin: -1px;overflow: hidden;padding: 0;position: absolute;width: 1px;}#sk-container-id-1 div.sk-estimator {font-family: monospace;background-color: #f0f8ff;border: 1px dotted black;border-radius: 0.25em;box-sizing: border-box;margin-bottom: 0.5em;}#sk-container-id-1 div.sk-estimator:hover {background-color: #d4ebff;}#sk-container-id-1 div.sk-parallel-item::after {content: \"\";width: 100%;border-bottom: 1px solid gray;flex-grow: 1;}#sk-container-id-1 div.sk-label:hover label.sk-toggleable__label {background-color: #d4ebff;}#sk-container-id-1 div.sk-serial::before {content: \"\";position: absolute;border-left: 1px solid gray;box-sizing: border-box;top: 0;bottom: 0;left: 50%;z-index: 0;}#sk-container-id-1 div.sk-serial {display: flex;flex-direction: column;align-items: center;background-color: white;padding-right: 0.2em;padding-left: 0.2em;position: relative;}#sk-container-id-1 div.sk-item {position: relative;z-index: 1;}#sk-container-id-1 div.sk-parallel {display: flex;align-items: stretch;justify-content: center;background-color: white;position: relative;}#sk-container-id-1 div.sk-item::before, #sk-container-id-1 div.sk-parallel-item::before {content: \"\";position: absolute;border-left: 1px solid gray;box-sizing: border-box;top: 0;bottom: 0;left: 50%;z-index: -1;}#sk-container-id-1 div.sk-parallel-item {display: flex;flex-direction: column;z-index: 1;position: relative;background-color: white;}#sk-container-id-1 div.sk-parallel-item:first-child::after {align-self: flex-end;width: 50%;}#sk-container-id-1 div.sk-parallel-item:last-child::after {align-self: flex-start;width: 50%;}#sk-container-id-1 div.sk-parallel-item:only-child::after {width: 0;}#sk-container-id-1 div.sk-dashed-wrapped {border: 1px dashed gray;margin: 0 0.4em 0.5em 0.4em;box-sizing: border-box;padding-bottom: 0.4em;background-color: white;}#sk-container-id-1 div.sk-label label {font-family: monospace;font-weight: bold;display: inline-block;line-height: 1.2em;}#sk-container-id-1 div.sk-label-container {text-align: center;}#sk-container-id-1 div.sk-container {/* jupyter's `normalize.less` sets `[hidden] { display: none; }` but bootstrap.min.css set `[hidden] { display: none !important; }` so we also need the `!important` here to be able to override the default hidden behavior on the sphinx rendered scikit-learn.org. See: https://github.com/scikit-learn/scikit-learn/issues/21755 */display: inline-block !important;position: relative;}#sk-container-id-1 div.sk-text-repr-fallback {display: none;}</style><div id=\"sk-container-id-1\" class=\"sk-top-container\"><div class=\"sk-text-repr-fallback\"><pre>RandomForestClassifier(max_depth=2, n_jobs=-1, oob_score=True, random_state=42)</pre><b>In a Jupyter environment, please rerun this cell to show the HTML representation or trust the notebook. <br />On GitHub, the HTML representation is unable to render, please try loading this page with nbviewer.org.</b></div><div class=\"sk-container\" hidden><div class=\"sk-item\"><div class=\"sk-estimator sk-toggleable\"><input class=\"sk-toggleable__control sk-hidden--visually\" id=\"sk-estimator-id-1\" type=\"checkbox\" checked><label for=\"sk-estimator-id-1\" class=\"sk-toggleable__label sk-toggleable__label-arrow\">RandomForestClassifier</label><div class=\"sk-toggleable__content\"><pre>RandomForestClassifier(max_depth=2, n_jobs=-1, oob_score=True, random_state=42)</pre></div></div></div></div></div>"
      ],
      "text/plain": [
       "RandomForestClassifier(max_depth=2, n_jobs=-1, oob_score=True, random_state=42)"
      ]
     },
     "execution_count": 9,
     "metadata": {},
     "output_type": "execute_result"
    }
   ],
   "source": [
    "random_forest = RandomForestClassifier(n_estimators=100, max_depth=2, random_state=42,n_jobs=-1, oob_score = True) \n",
    "random_forest.fit(X_train, y_train)"
   ]
  },
  {
   "attachments": {},
   "cell_type": "markdown",
   "metadata": {},
   "source": [
    "El modelo se entrena usando los datos armados con train_test_split"
   ]
  },
  {
   "cell_type": "code",
   "execution_count": 10,
   "metadata": {},
   "outputs": [
    {
     "name": "stdout",
     "output_type": "stream",
     "text": [
      "Accuracy para y_train: 0.888609756097561\n",
      "Recall para y_train: 0.9993279597431495\n",
      "Accuracy para y_test: 0.8881300813008131\n",
      "Recall para y_test: 0.9993976191614476\n"
     ]
    }
   ],
   "source": [
    "pred = random_forest.predict(X_test)\n",
    "y_train_pred = random_forest.predict(X_train)\n",
    "y_test_pred = random_forest.predict(X_test)\n",
    "\n",
    "print(\"Accuracy para y_train:\",metrics.accuracy_score(y_train, y_train_pred))\n",
    "print(\"Recall para y_train:\",metrics.recall_score(y_train, y_train_pred))\n",
    "\n",
    "print(\"Accuracy para y_test:\",metrics.accuracy_score(y_test, y_test_pred))\n",
    "print(\"Recall para y_test:\",metrics.recall_score(y_test, y_test_pred))"
   ]
  },
  {
   "attachments": {},
   "cell_type": "markdown",
   "metadata": {},
   "source": [
    "Una vez entrenado el modelo se utilizando los datos del dataframe df_test para crear una columna llamada pred_1 que se va a completar con las predicciones del modelo."
   ]
  },
  {
   "cell_type": "code",
   "execution_count": 11,
   "metadata": {},
   "outputs": [
    {
     "data": {
      "text/html": [
       "<div>\n",
       "<style scoped>\n",
       "    .dataframe tbody tr th:only-of-type {\n",
       "        vertical-align: middle;\n",
       "    }\n",
       "\n",
       "    .dataframe tbody tr th {\n",
       "        vertical-align: top;\n",
       "    }\n",
       "\n",
       "    .dataframe thead th {\n",
       "        text-align: right;\n",
       "    }\n",
       "</style>\n",
       "<table border=\"1\" class=\"dataframe\">\n",
       "  <thead>\n",
       "    <tr style=\"text-align: right;\">\n",
       "      <th></th>\n",
       "      <th>doctor_name_Dr Mark</th>\n",
       "      <th>Department_anesthesia</th>\n",
       "      <th>Department_radiotherapy</th>\n",
       "      <th>doctor_name_Dr Sam</th>\n",
       "      <th>Age_31-40</th>\n",
       "      <th>pred_1</th>\n",
       "    </tr>\n",
       "  </thead>\n",
       "  <tbody>\n",
       "    <tr>\n",
       "      <th>80010</th>\n",
       "      <td>-0.327841</td>\n",
       "      <td>-0.311432</td>\n",
       "      <td>2.220514</td>\n",
       "      <td>-0.371973</td>\n",
       "      <td>-0.593395</td>\n",
       "      <td>1</td>\n",
       "    </tr>\n",
       "    <tr>\n",
       "      <th>119389</th>\n",
       "      <td>-0.327841</td>\n",
       "      <td>-0.311432</td>\n",
       "      <td>-0.450346</td>\n",
       "      <td>-0.371973</td>\n",
       "      <td>-0.593395</td>\n",
       "      <td>1</td>\n",
       "    </tr>\n",
       "    <tr>\n",
       "      <th>235977</th>\n",
       "      <td>3.050262</td>\n",
       "      <td>3.210973</td>\n",
       "      <td>-0.450346</td>\n",
       "      <td>-0.371973</td>\n",
       "      <td>-0.593395</td>\n",
       "      <td>1</td>\n",
       "    </tr>\n",
       "    <tr>\n",
       "      <th>370272</th>\n",
       "      <td>-0.327841</td>\n",
       "      <td>-0.311432</td>\n",
       "      <td>-0.450346</td>\n",
       "      <td>-0.371973</td>\n",
       "      <td>-0.593395</td>\n",
       "      <td>1</td>\n",
       "    </tr>\n",
       "    <tr>\n",
       "      <th>352001</th>\n",
       "      <td>-0.327841</td>\n",
       "      <td>-0.311432</td>\n",
       "      <td>-0.450346</td>\n",
       "      <td>-0.371973</td>\n",
       "      <td>1.685218</td>\n",
       "      <td>1</td>\n",
       "    </tr>\n",
       "  </tbody>\n",
       "</table>\n",
       "</div>"
      ],
      "text/plain": [
       "        doctor_name_Dr Mark  Department_anesthesia  Department_radiotherapy  \\\n",
       "80010             -0.327841              -0.311432                 2.220514   \n",
       "119389            -0.327841              -0.311432                -0.450346   \n",
       "235977             3.050262               3.210973                -0.450346   \n",
       "370272            -0.327841              -0.311432                -0.450346   \n",
       "352001            -0.327841              -0.311432                -0.450346   \n",
       "\n",
       "        doctor_name_Dr Sam  Age_31-40  pred_1  \n",
       "80010            -0.371973  -0.593395       1  \n",
       "119389           -0.371973  -0.593395       1  \n",
       "235977           -0.371973  -0.593395       1  \n",
       "370272           -0.371973  -0.593395       1  \n",
       "352001           -0.371973   1.685218       1  "
      ]
     },
     "execution_count": 11,
     "metadata": {},
     "output_type": "execute_result"
    }
   ],
   "source": [
    "#Se separan las columnas necesarias de df_test para su testeo con el modelo entrenado\n",
    "test_model=df_test[[\"doctor_name_Dr Mark\",\"Department_anesthesia\",\"Department_radiotherapy\",\"doctor_name_Dr Sam\",\"Age_31-40\"]]\n",
    "\n",
    "#Se agrega la columna \"pred_1\" con las predicciones del modelo\n",
    "pred_model_1=random_forest.predict(test_model)\n",
    "df_test[\"pred_1\"]=pred_model_1\n",
    "\n",
    "df_test[[\"doctor_name_Dr Mark\",\"Department_anesthesia\",\"Department_radiotherapy\",\"doctor_name_Dr Sam\",\"Age_31-40\",\"pred_1\"]].sample(5)"
   ]
  },
  {
   "attachments": {},
   "cell_type": "markdown",
   "metadata": {},
   "source": [
    "Se crea un nuevo modelo usando KNeighborsClassifier.\n",
    "En este caso no se uso GridSearchCV debido a la cantidad elevada de tiempo que tarda obtener los resultados, por lo que solo se probaron 2 configuraciones distintas y se eligio la que mejor Recall y Acurracy producia."
   ]
  },
  {
   "cell_type": "code",
   "execution_count": 7,
   "metadata": {},
   "outputs": [
    {
     "name": "stderr",
     "output_type": "stream",
     "text": [
      "c:\\Users\\Lautaro\\AppData\\Local\\Programs\\Python\\Python310\\lib\\site-packages\\sklearn\\neighbors\\_classification.py:207: DataConversionWarning: A column-vector y was passed when a 1d array was expected. Please change the shape of y to (n_samples,), for example using ravel().\n",
      "  return self._fit(X, y)\n"
     ]
    },
    {
     "name": "stdout",
     "output_type": "stream",
     "text": [
      "Accuracy para y_train: 0.888609756097561\n",
      "Recall para y_train: 0.9993279597431495\n",
      "Accuracy para y_test: 0.8881300813008131\n",
      "Recall para y_test: 0.9993976191614476\n"
     ]
    }
   ],
   "source": [
    "# Se define el clasificador\n",
    "knn = KNeighborsClassifier(7,n_jobs=-1)\n",
    "\n",
    "# Se entrena el modelo\n",
    "knn.fit(X_train, y_train)\n",
    "\n",
    "print(\"Accuracy para y_train:\",metrics.accuracy_score(y_train, knn.predict(X_train)))\n",
    "print(\"Recall para y_train:\",metrics.recall_score(y_train, knn.predict(X_train)))\n",
    "\n",
    "print(\"Accuracy para y_test:\",metrics.accuracy_score(y_test, knn.predict(X_test)))\n",
    "print(\"Recall para y_test:\",metrics.recall_score(y_test, knn.predict(X_test)))"
   ]
  },
  {
   "cell_type": "code",
   "execution_count": 12,
   "metadata": {},
   "outputs": [],
   "source": [
    "pred_model_2=knn.predict(test_model)\n",
    "df_test[\"pred_2\"]=pred_model_2\n"
   ]
  },
  {
   "cell_type": "code",
   "execution_count": 19,
   "metadata": {},
   "outputs": [
    {
     "data": {
      "text/html": [
       "<div>\n",
       "<style scoped>\n",
       "    .dataframe tbody tr th:only-of-type {\n",
       "        vertical-align: middle;\n",
       "    }\n",
       "\n",
       "    .dataframe tbody tr th {\n",
       "        vertical-align: top;\n",
       "    }\n",
       "\n",
       "    .dataframe thead th {\n",
       "        text-align: right;\n",
       "    }\n",
       "</style>\n",
       "<table border=\"1\" class=\"dataframe\">\n",
       "  <thead>\n",
       "    <tr style=\"text-align: right;\">\n",
       "      <th></th>\n",
       "      <th>doctor_name_Dr Mark</th>\n",
       "      <th>Department_anesthesia</th>\n",
       "      <th>Department_radiotherapy</th>\n",
       "      <th>doctor_name_Dr Sam</th>\n",
       "      <th>Age_31-40</th>\n",
       "      <th>pred_1</th>\n",
       "      <th>pred_2</th>\n",
       "    </tr>\n",
       "  </thead>\n",
       "  <tbody>\n",
       "    <tr>\n",
       "      <th>84435</th>\n",
       "      <td>-0.327841</td>\n",
       "      <td>-0.311432</td>\n",
       "      <td>2.220514</td>\n",
       "      <td>-0.371973</td>\n",
       "      <td>-0.593395</td>\n",
       "      <td>1</td>\n",
       "      <td>1</td>\n",
       "    </tr>\n",
       "    <tr>\n",
       "      <th>237149</th>\n",
       "      <td>-0.327841</td>\n",
       "      <td>-0.311432</td>\n",
       "      <td>-0.450346</td>\n",
       "      <td>-0.371973</td>\n",
       "      <td>-0.593395</td>\n",
       "      <td>1</td>\n",
       "      <td>1</td>\n",
       "    </tr>\n",
       "    <tr>\n",
       "      <th>295261</th>\n",
       "      <td>-0.327841</td>\n",
       "      <td>-0.311432</td>\n",
       "      <td>-0.450346</td>\n",
       "      <td>-0.371973</td>\n",
       "      <td>-0.593395</td>\n",
       "      <td>1</td>\n",
       "      <td>1</td>\n",
       "    </tr>\n",
       "    <tr>\n",
       "      <th>187251</th>\n",
       "      <td>-0.327841</td>\n",
       "      <td>-0.311432</td>\n",
       "      <td>-0.450346</td>\n",
       "      <td>-0.371973</td>\n",
       "      <td>1.685218</td>\n",
       "      <td>1</td>\n",
       "      <td>1</td>\n",
       "    </tr>\n",
       "    <tr>\n",
       "      <th>120387</th>\n",
       "      <td>-0.327841</td>\n",
       "      <td>-0.311432</td>\n",
       "      <td>-0.450346</td>\n",
       "      <td>-0.371973</td>\n",
       "      <td>1.685218</td>\n",
       "      <td>1</td>\n",
       "      <td>1</td>\n",
       "    </tr>\n",
       "  </tbody>\n",
       "</table>\n",
       "</div>"
      ],
      "text/plain": [
       "        doctor_name_Dr Mark  Department_anesthesia  Department_radiotherapy  \\\n",
       "84435             -0.327841              -0.311432                 2.220514   \n",
       "237149            -0.327841              -0.311432                -0.450346   \n",
       "295261            -0.327841              -0.311432                -0.450346   \n",
       "187251            -0.327841              -0.311432                -0.450346   \n",
       "120387            -0.327841              -0.311432                -0.450346   \n",
       "\n",
       "        doctor_name_Dr Sam  Age_31-40  pred_1  pred_2  \n",
       "84435            -0.371973  -0.593395       1       1  \n",
       "237149           -0.371973  -0.593395       1       1  \n",
       "295261           -0.371973  -0.593395       1       1  \n",
       "187251           -0.371973   1.685218       1       1  \n",
       "120387           -0.371973   1.685218       1       1  "
      ]
     },
     "execution_count": 19,
     "metadata": {},
     "output_type": "execute_result"
    }
   ],
   "source": [
    "df_test[[\"doctor_name_Dr Mark\",\"Department_anesthesia\",\"Department_radiotherapy\",\"doctor_name_Dr Sam\",\"Age_31-40\",\"pred_1\",\"pred_2\"]].sample(5)"
   ]
  },
  {
   "cell_type": "code",
   "execution_count": null,
   "metadata": {},
   "outputs": [],
   "source": [
    "estimator_list = [\n",
    "    ('knn',knn),\n",
    "    ('random_forest',random_forest)]\n",
    "\n",
    "stack_model = StackingClassifier(\n",
    "    estimators=estimator_list, final_estimator=LogisticRegression(n_jobs=-1))\n",
    "\n",
    "# Se entrena el metamodelo\n",
    "stack_model.fit(X_train, y_train)\n",
    "\n",
    "# Desempeño del metamodelo en train, calculando la precisión (accuracy)\n",
    "print(\"Accuracy para y_train: \",accuracy_score(y_train, stack_model.predict(X_train)))\n",
    "print(\"Recall para y_train: \",recall_score(y_train, stack_model.predict(X_train)))\n",
    "\n",
    "# Desempeño del metamodelo en test, calculando la precisión (accuracy)\n",
    "print(\"Accuracy para y_test: \",accuracy_score(y_test, stack_model.predict(X_test)))\n",
    "print(\"Recall para y_test: \",recall_score(y_test, stack_model.predict(X_test)))\n"
   ]
  },
  {
   "cell_type": "code",
   "execution_count": 21,
   "metadata": {},
   "outputs": [
    {
     "name": "stdout",
     "output_type": "stream",
     "text": [
      "Accuracy para y_train:  0.888609756097561\n",
      "Recall para y_train:  0.9993279597431495\n",
      "Accuracy para y_test:  0.8881300813008131\n",
      "Recall para y_test:  0.9993976191614476\n"
     ]
    }
   ],
   "source": [
    "# Desempeño del metamodelo en train, calculando la precisión (accuracy)\n",
    "print(\"Accuracy para y_train: \",metrics.accuracy_score(y_train, stack_model.predict(X_train)))\n",
    "print(\"Recall para y_train: \",metrics.recall_score(y_train, stack_model.predict(X_train)))\n",
    "\n",
    "# Desempeño del metamodelo en test, calculando la precisión (accuracy)\n",
    "print(\"Accuracy para y_test: \",metrics.accuracy_score(y_test, stack_model.predict(X_test)))\n",
    "print(\"Recall para y_test: \",metrics.recall_score(y_test, stack_model.predict(X_test)))"
   ]
  },
  {
   "cell_type": "code",
   "execution_count": 23,
   "metadata": {},
   "outputs": [
    {
     "data": {
      "text/html": [
       "<div>\n",
       "<style scoped>\n",
       "    .dataframe tbody tr th:only-of-type {\n",
       "        vertical-align: middle;\n",
       "    }\n",
       "\n",
       "    .dataframe tbody tr th {\n",
       "        vertical-align: top;\n",
       "    }\n",
       "\n",
       "    .dataframe thead th {\n",
       "        text-align: right;\n",
       "    }\n",
       "</style>\n",
       "<table border=\"1\" class=\"dataframe\">\n",
       "  <thead>\n",
       "    <tr style=\"text-align: right;\">\n",
       "      <th></th>\n",
       "      <th>doctor_name_Dr Mark</th>\n",
       "      <th>Department_anesthesia</th>\n",
       "      <th>Department_radiotherapy</th>\n",
       "      <th>doctor_name_Dr Sam</th>\n",
       "      <th>Age_31-40</th>\n",
       "      <th>pred_1</th>\n",
       "      <th>pred_2</th>\n",
       "      <th>pred_3</th>\n",
       "    </tr>\n",
       "  </thead>\n",
       "  <tbody>\n",
       "    <tr>\n",
       "      <th>302073</th>\n",
       "      <td>-0.327841</td>\n",
       "      <td>-0.311432</td>\n",
       "      <td>-0.450346</td>\n",
       "      <td>-0.371973</td>\n",
       "      <td>-0.593395</td>\n",
       "      <td>1</td>\n",
       "      <td>1</td>\n",
       "      <td>1</td>\n",
       "    </tr>\n",
       "    <tr>\n",
       "      <th>11835</th>\n",
       "      <td>-0.327841</td>\n",
       "      <td>-0.311432</td>\n",
       "      <td>-0.450346</td>\n",
       "      <td>-0.371973</td>\n",
       "      <td>1.685218</td>\n",
       "      <td>1</td>\n",
       "      <td>1</td>\n",
       "      <td>1</td>\n",
       "    </tr>\n",
       "    <tr>\n",
       "      <th>21824</th>\n",
       "      <td>-0.327841</td>\n",
       "      <td>-0.311432</td>\n",
       "      <td>-0.450346</td>\n",
       "      <td>-0.371973</td>\n",
       "      <td>-0.593395</td>\n",
       "      <td>1</td>\n",
       "      <td>1</td>\n",
       "      <td>1</td>\n",
       "    </tr>\n",
       "    <tr>\n",
       "      <th>284878</th>\n",
       "      <td>-0.327841</td>\n",
       "      <td>-0.311432</td>\n",
       "      <td>2.220514</td>\n",
       "      <td>2.688367</td>\n",
       "      <td>-0.593395</td>\n",
       "      <td>1</td>\n",
       "      <td>1</td>\n",
       "      <td>1</td>\n",
       "    </tr>\n",
       "    <tr>\n",
       "      <th>4759</th>\n",
       "      <td>-0.327841</td>\n",
       "      <td>-0.311432</td>\n",
       "      <td>-0.450346</td>\n",
       "      <td>-0.371973</td>\n",
       "      <td>-0.593395</td>\n",
       "      <td>1</td>\n",
       "      <td>1</td>\n",
       "      <td>1</td>\n",
       "    </tr>\n",
       "  </tbody>\n",
       "</table>\n",
       "</div>"
      ],
      "text/plain": [
       "        doctor_name_Dr Mark  Department_anesthesia  Department_radiotherapy  \\\n",
       "302073            -0.327841              -0.311432                -0.450346   \n",
       "11835             -0.327841              -0.311432                -0.450346   \n",
       "21824             -0.327841              -0.311432                -0.450346   \n",
       "284878            -0.327841              -0.311432                 2.220514   \n",
       "4759              -0.327841              -0.311432                -0.450346   \n",
       "\n",
       "        doctor_name_Dr Sam  Age_31-40  pred_1  pred_2  pred_3  \n",
       "302073           -0.371973  -0.593395       1       1       1  \n",
       "11835            -0.371973   1.685218       1       1       1  \n",
       "21824            -0.371973  -0.593395       1       1       1  \n",
       "284878            2.688367  -0.593395       1       1       1  \n",
       "4759             -0.371973  -0.593395       1       1       1  "
      ]
     },
     "execution_count": 23,
     "metadata": {},
     "output_type": "execute_result"
    }
   ],
   "source": [
    "pred_model_3=stack_model.predict(test_model)\n",
    "df_test[\"pred_3\"]=pred_model_3\n",
    "df_test[[\"doctor_name_Dr Mark\",\"Department_anesthesia\",\"Department_radiotherapy\",\"doctor_name_Dr Sam\",\"Age_31-40\",\"pred_1\",\"pred_2\",\"pred_3\"]].sample(5)"
   ]
  },
  {
   "cell_type": "code",
   "execution_count": 36,
   "metadata": {},
   "outputs": [
    {
     "data": {
      "text/html": [
       "<div>\n",
       "<style scoped>\n",
       "    .dataframe tbody tr th:only-of-type {\n",
       "        vertical-align: middle;\n",
       "    }\n",
       "\n",
       "    .dataframe tbody tr th {\n",
       "        vertical-align: top;\n",
       "    }\n",
       "\n",
       "    .dataframe thead th {\n",
       "        text-align: right;\n",
       "    }\n",
       "</style>\n",
       "<table border=\"1\" class=\"dataframe\">\n",
       "  <thead>\n",
       "    <tr style=\"text-align: right;\">\n",
       "      <th></th>\n",
       "      <th>pred_final</th>\n",
       "      <th>pred_1</th>\n",
       "      <th>pred_2</th>\n",
       "      <th>pred_3</th>\n",
       "    </tr>\n",
       "  </thead>\n",
       "  <tbody>\n",
       "    <tr>\n",
       "      <th>0</th>\n",
       "      <td>1</td>\n",
       "      <td>1</td>\n",
       "      <td>1</td>\n",
       "      <td>1</td>\n",
       "    </tr>\n",
       "    <tr>\n",
       "      <th>1</th>\n",
       "      <td>1</td>\n",
       "      <td>1</td>\n",
       "      <td>1</td>\n",
       "      <td>1</td>\n",
       "    </tr>\n",
       "    <tr>\n",
       "      <th>2</th>\n",
       "      <td>1</td>\n",
       "      <td>1</td>\n",
       "      <td>1</td>\n",
       "      <td>1</td>\n",
       "    </tr>\n",
       "    <tr>\n",
       "      <th>3</th>\n",
       "      <td>1</td>\n",
       "      <td>1</td>\n",
       "      <td>1</td>\n",
       "      <td>1</td>\n",
       "    </tr>\n",
       "    <tr>\n",
       "      <th>4</th>\n",
       "      <td>1</td>\n",
       "      <td>1</td>\n",
       "      <td>1</td>\n",
       "      <td>1</td>\n",
       "    </tr>\n",
       "    <tr>\n",
       "      <th>...</th>\n",
       "      <td>...</td>\n",
       "      <td>...</td>\n",
       "      <td>...</td>\n",
       "      <td>...</td>\n",
       "    </tr>\n",
       "    <tr>\n",
       "      <th>409995</th>\n",
       "      <td>1</td>\n",
       "      <td>1</td>\n",
       "      <td>1</td>\n",
       "      <td>1</td>\n",
       "    </tr>\n",
       "    <tr>\n",
       "      <th>409996</th>\n",
       "      <td>1</td>\n",
       "      <td>1</td>\n",
       "      <td>1</td>\n",
       "      <td>1</td>\n",
       "    </tr>\n",
       "    <tr>\n",
       "      <th>409997</th>\n",
       "      <td>1</td>\n",
       "      <td>1</td>\n",
       "      <td>1</td>\n",
       "      <td>1</td>\n",
       "    </tr>\n",
       "    <tr>\n",
       "      <th>409998</th>\n",
       "      <td>1</td>\n",
       "      <td>1</td>\n",
       "      <td>1</td>\n",
       "      <td>1</td>\n",
       "    </tr>\n",
       "    <tr>\n",
       "      <th>409999</th>\n",
       "      <td>1</td>\n",
       "      <td>1</td>\n",
       "      <td>1</td>\n",
       "      <td>1</td>\n",
       "    </tr>\n",
       "  </tbody>\n",
       "</table>\n",
       "<p>410000 rows × 4 columns</p>\n",
       "</div>"
      ],
      "text/plain": [
       "        pred_final  pred_1  pred_2  pred_3\n",
       "0                1       1       1       1\n",
       "1                1       1       1       1\n",
       "2                1       1       1       1\n",
       "3                1       1       1       1\n",
       "4                1       1       1       1\n",
       "...            ...     ...     ...     ...\n",
       "409995           1       1       1       1\n",
       "409996           1       1       1       1\n",
       "409997           1       1       1       1\n",
       "409998           1       1       1       1\n",
       "409999           1       1       1       1\n",
       "\n",
       "[410000 rows x 4 columns]"
      ]
     },
     "execution_count": 36,
     "metadata": {},
     "output_type": "execute_result"
    }
   ],
   "source": [
    "df_test[\"pred_final\"]=round((df_test[\"pred_1\"]+df_test[\"pred_2\"]+df_test[\"pred_3\"])/3,1)\n",
    "df_test[\"pred_final\"]=df_test[\"pred_final\"].astype(int)\n",
    "df_test[[\"pred_final\",\"pred_1\",\"pred_2\",\"pred_3\"]]"
   ]
  },
  {
   "cell_type": "code",
   "execution_count": 45,
   "metadata": {},
   "outputs": [],
   "source": [
    "pred=pd.DataFrame(df_test[\"pred_final\"])\n",
    "pred.rename(columns={'pred_final':'pred'},inplace=True)\n",
    "pred.to_csv(\"Lautaro555.csv\",index=False)"
   ]
  }
 ],
 "metadata": {
  "kernelspec": {
   "display_name": "Python 3",
   "language": "python",
   "name": "python3"
  },
  "language_info": {
   "codemirror_mode": {
    "name": "ipython",
    "version": 3
   },
   "file_extension": ".py",
   "mimetype": "text/x-python",
   "name": "python",
   "nbconvert_exporter": "python",
   "pygments_lexer": "ipython3",
   "version": "3.10.7 (tags/v3.10.7:6cc6b13, Sep  5 2022, 14:08:36) [MSC v.1933 64 bit (AMD64)]"
  },
  "orig_nbformat": 4,
  "vscode": {
   "interpreter": {
    "hash": "2711725d473bbbc5495942fb8452d9b92540956864e278750e6f52a820e4fcee"
   }
  }
 },
 "nbformat": 4,
 "nbformat_minor": 2
}
